{
 "cells": [
  {
   "cell_type": "markdown",
   "id": "5f34368c",
   "metadata": {},
   "source": [
    "# <font color='brown'> **Backtesting (código clase)**\n",
    "## <font color='rosybrown'> **Arantza Gomez Haro Gamboa**"
   ]
  },
  {
   "cell_type": "markdown",
   "id": "0eaf98dd",
   "metadata": {},
   "source": [
    "### <font color='rosybrown'> **Supuestos:**"
   ]
  },
  {
   "cell_type": "markdown",
   "id": "ed1b7057",
   "metadata": {},
   "source": [
    "- Trades @ close\n",
    "- Comisión = 0.125%\n",
    "- SL = TP = 5%\n",
    "- Cash = $1M\n",
    "- N Shares = 50\n",
    "- No taxes\n",
    "- No leverages\n",
    "- Margin Acc = 50%\n",
    "- Borrow rate = 0.25%\n",
    "- Timeframe = 5 minutes\n"
   ]
  },
  {
   "cell_type": "code",
   "execution_count": 1,
   "id": "c370b648",
   "metadata": {},
   "outputs": [],
   "source": [
    "import pandas as pd\n",
    "import matplotlib.pyplot as plt\n",
    "import seaborn as sns\n",
    "import ta\n",
    "\n",
    "sns.set_theme()"
   ]
  },
  {
   "cell_type": "code",
   "execution_count": 2,
   "id": "b46510e9",
   "metadata": {},
   "outputs": [
    {
     "data": {
      "text/html": [
       "<div>\n",
       "<style scoped>\n",
       "    .dataframe tbody tr th:only-of-type {\n",
       "        vertical-align: middle;\n",
       "    }\n",
       "\n",
       "    .dataframe tbody tr th {\n",
       "        vertical-align: top;\n",
       "    }\n",
       "\n",
       "    .dataframe thead th {\n",
       "        text-align: right;\n",
       "    }\n",
       "</style>\n",
       "<table border=\"1\" class=\"dataframe\">\n",
       "  <thead>\n",
       "    <tr style=\"text-align: right;\">\n",
       "      <th></th>\n",
       "      <th>Unnamed: 0</th>\n",
       "      <th>Timestamp</th>\n",
       "      <th>Gmtoffset</th>\n",
       "      <th>Datetime</th>\n",
       "      <th>Open</th>\n",
       "      <th>High</th>\n",
       "      <th>Low</th>\n",
       "      <th>Close</th>\n",
       "      <th>Volume</th>\n",
       "    </tr>\n",
       "  </thead>\n",
       "  <tbody>\n",
       "    <tr>\n",
       "      <th>0</th>\n",
       "      <td>0</td>\n",
       "      <td>1609770600</td>\n",
       "      <td>0</td>\n",
       "      <td>2021-01-04 14:30:00</td>\n",
       "      <td>133.570007</td>\n",
       "      <td>133.611602</td>\n",
       "      <td>132.389999</td>\n",
       "      <td>132.809997</td>\n",
       "      <td>6624663.0</td>\n",
       "    </tr>\n",
       "    <tr>\n",
       "      <th>1</th>\n",
       "      <td>1</td>\n",
       "      <td>1609770900</td>\n",
       "      <td>0</td>\n",
       "      <td>2021-01-04 14:35:00</td>\n",
       "      <td>132.750000</td>\n",
       "      <td>132.750000</td>\n",
       "      <td>131.809997</td>\n",
       "      <td>131.889999</td>\n",
       "      <td>2541553.0</td>\n",
       "    </tr>\n",
       "    <tr>\n",
       "      <th>2</th>\n",
       "      <td>2</td>\n",
       "      <td>1609771200</td>\n",
       "      <td>0</td>\n",
       "      <td>2021-01-04 14:40:00</td>\n",
       "      <td>131.500000</td>\n",
       "      <td>132.339996</td>\n",
       "      <td>131.500000</td>\n",
       "      <td>132.059997</td>\n",
       "      <td>2492415.0</td>\n",
       "    </tr>\n",
       "    <tr>\n",
       "      <th>3</th>\n",
       "      <td>3</td>\n",
       "      <td>1609771500</td>\n",
       "      <td>0</td>\n",
       "      <td>2021-01-04 14:45:00</td>\n",
       "      <td>132.000000</td>\n",
       "      <td>132.250000</td>\n",
       "      <td>131.899993</td>\n",
       "      <td>132.250000</td>\n",
       "      <td>1859131.0</td>\n",
       "    </tr>\n",
       "    <tr>\n",
       "      <th>4</th>\n",
       "      <td>4</td>\n",
       "      <td>1609771800</td>\n",
       "      <td>0</td>\n",
       "      <td>2021-01-04 14:50:00</td>\n",
       "      <td>132.000000</td>\n",
       "      <td>132.018096</td>\n",
       "      <td>131.520004</td>\n",
       "      <td>131.589996</td>\n",
       "      <td>1780105.0</td>\n",
       "    </tr>\n",
       "  </tbody>\n",
       "</table>\n",
       "</div>"
      ],
      "text/plain": [
       "   Unnamed: 0   Timestamp  Gmtoffset             Datetime        Open  \\\n",
       "0           0  1609770600          0  2021-01-04 14:30:00  133.570007   \n",
       "1           1  1609770900          0  2021-01-04 14:35:00  132.750000   \n",
       "2           2  1609771200          0  2021-01-04 14:40:00  131.500000   \n",
       "3           3  1609771500          0  2021-01-04 14:45:00  132.000000   \n",
       "4           4  1609771800          0  2021-01-04 14:50:00  132.000000   \n",
       "\n",
       "         High         Low       Close     Volume  \n",
       "0  133.611602  132.389999  132.809997  6624663.0  \n",
       "1  132.750000  131.809997  131.889999  2541553.0  \n",
       "2  132.339996  131.500000  132.059997  2492415.0  \n",
       "3  132.250000  131.899993  132.250000  1859131.0  \n",
       "4  132.018096  131.520004  131.589996  1780105.0  "
      ]
     },
     "execution_count": 2,
     "metadata": {},
     "output_type": "execute_result"
    }
   ],
   "source": [
    "data = pd.read_csv('aapl_5m_train.csv').dropna()\n",
    "data.head()"
   ]
  },
  {
   "cell_type": "code",
   "execution_count": 21,
   "id": "cc0881d8",
   "metadata": {},
   "outputs": [
    {
     "data": {
      "text/html": [
       "<div>\n",
       "<style scoped>\n",
       "    .dataframe tbody tr th:only-of-type {\n",
       "        vertical-align: middle;\n",
       "    }\n",
       "\n",
       "    .dataframe tbody tr th {\n",
       "        vertical-align: top;\n",
       "    }\n",
       "\n",
       "    .dataframe thead th {\n",
       "        text-align: right;\n",
       "    }\n",
       "</style>\n",
       "<table border=\"1\" class=\"dataframe\">\n",
       "  <thead>\n",
       "    <tr style=\"text-align: right;\">\n",
       "      <th></th>\n",
       "      <th>Unnamed: 0</th>\n",
       "      <th>Timestamp</th>\n",
       "      <th>Gmtoffset</th>\n",
       "      <th>Datetime</th>\n",
       "      <th>Open</th>\n",
       "      <th>High</th>\n",
       "      <th>Low</th>\n",
       "      <th>Close</th>\n",
       "      <th>Volume</th>\n",
       "      <th>RSI</th>\n",
       "    </tr>\n",
       "  </thead>\n",
       "  <tbody>\n",
       "    <tr>\n",
       "      <th>0</th>\n",
       "      <td>0</td>\n",
       "      <td>1609770600</td>\n",
       "      <td>0</td>\n",
       "      <td>2021-01-04 14:30:00</td>\n",
       "      <td>133.570007</td>\n",
       "      <td>133.611602</td>\n",
       "      <td>132.389999</td>\n",
       "      <td>132.809997</td>\n",
       "      <td>6624663.0</td>\n",
       "      <td>NaN</td>\n",
       "    </tr>\n",
       "    <tr>\n",
       "      <th>1</th>\n",
       "      <td>1</td>\n",
       "      <td>1609770900</td>\n",
       "      <td>0</td>\n",
       "      <td>2021-01-04 14:35:00</td>\n",
       "      <td>132.750000</td>\n",
       "      <td>132.750000</td>\n",
       "      <td>131.809997</td>\n",
       "      <td>131.889999</td>\n",
       "      <td>2541553.0</td>\n",
       "      <td>NaN</td>\n",
       "    </tr>\n",
       "    <tr>\n",
       "      <th>2</th>\n",
       "      <td>2</td>\n",
       "      <td>1609771200</td>\n",
       "      <td>0</td>\n",
       "      <td>2021-01-04 14:40:00</td>\n",
       "      <td>131.500000</td>\n",
       "      <td>132.339996</td>\n",
       "      <td>131.500000</td>\n",
       "      <td>132.059997</td>\n",
       "      <td>2492415.0</td>\n",
       "      <td>NaN</td>\n",
       "    </tr>\n",
       "    <tr>\n",
       "      <th>3</th>\n",
       "      <td>3</td>\n",
       "      <td>1609771500</td>\n",
       "      <td>0</td>\n",
       "      <td>2021-01-04 14:45:00</td>\n",
       "      <td>132.000000</td>\n",
       "      <td>132.250000</td>\n",
       "      <td>131.899993</td>\n",
       "      <td>132.250000</td>\n",
       "      <td>1859131.0</td>\n",
       "      <td>NaN</td>\n",
       "    </tr>\n",
       "    <tr>\n",
       "      <th>4</th>\n",
       "      <td>4</td>\n",
       "      <td>1609771800</td>\n",
       "      <td>0</td>\n",
       "      <td>2021-01-04 14:50:00</td>\n",
       "      <td>132.000000</td>\n",
       "      <td>132.018096</td>\n",
       "      <td>131.520004</td>\n",
       "      <td>131.589996</td>\n",
       "      <td>1780105.0</td>\n",
       "      <td>NaN</td>\n",
       "    </tr>\n",
       "  </tbody>\n",
       "</table>\n",
       "</div>"
      ],
      "text/plain": [
       "   Unnamed: 0   Timestamp  Gmtoffset             Datetime        Open  \\\n",
       "0           0  1609770600          0  2021-01-04 14:30:00  133.570007   \n",
       "1           1  1609770900          0  2021-01-04 14:35:00  132.750000   \n",
       "2           2  1609771200          0  2021-01-04 14:40:00  131.500000   \n",
       "3           3  1609771500          0  2021-01-04 14:45:00  132.000000   \n",
       "4           4  1609771800          0  2021-01-04 14:50:00  132.000000   \n",
       "\n",
       "         High         Low       Close     Volume  RSI  \n",
       "0  133.611602  132.389999  132.809997  6624663.0  NaN  \n",
       "1  132.750000  131.809997  131.889999  2541553.0  NaN  \n",
       "2  132.339996  131.500000  132.059997  2492415.0  NaN  \n",
       "3  132.250000  131.899993  132.250000  1859131.0  NaN  \n",
       "4  132.018096  131.520004  131.589996  1780105.0  NaN  "
      ]
     },
     "execution_count": 21,
     "metadata": {},
     "output_type": "execute_result"
    }
   ],
   "source": [
    "rsi_indicator = ta.momentum.RSIIndicator(data.Close, window=20)\n",
    "data['RSI'] = rsi_indicator.rsi()\n",
    "data.head()"
   ]
  },
  {
   "cell_type": "code",
   "execution_count": 22,
   "id": "be56c276",
   "metadata": {},
   "outputs": [
    {
     "name": "stderr",
     "output_type": "stream",
     "text": [
      "C:\\Users\\arant\\AppData\\Local\\Temp\\ipykernel_28128\\3205292575.py:2: SettingWithCopyWarning: \n",
      "A value is trying to be set on a copy of a slice from a DataFrame.\n",
      "Try using .loc[row_indexer,col_indexer] = value instead\n",
      "\n",
      "See the caveats in the documentation: https://pandas.pydata.org/pandas-docs/stable/user_guide/indexing.html#returning-a-view-versus-a-copy\n",
      "  historic['buy_signal'] = historic.RSI < 20\n",
      "C:\\Users\\arant\\AppData\\Local\\Temp\\ipykernel_28128\\3205292575.py:3: SettingWithCopyWarning: \n",
      "A value is trying to be set on a copy of a slice from a DataFrame.\n",
      "Try using .loc[row_indexer,col_indexer] = value instead\n",
      "\n",
      "See the caveats in the documentation: https://pandas.pydata.org/pandas-docs/stable/user_guide/indexing.html#returning-a-view-versus-a-copy\n",
      "  historic['sell_signal'] = historic.RSI > 80\n"
     ]
    }
   ],
   "source": [
    "historic = data.dropna()\n",
    "historic['buy_signal'] = historic.RSI < 20\n",
    "historic['sell_signal'] = historic.RSI > 80"
   ]
  },
  {
   "cell_type": "code",
   "execution_count": 23,
   "id": "771d0e8c",
   "metadata": {},
   "outputs": [
    {
     "data": {
      "text/html": [
       "<div>\n",
       "<style scoped>\n",
       "    .dataframe tbody tr th:only-of-type {\n",
       "        vertical-align: middle;\n",
       "    }\n",
       "\n",
       "    .dataframe tbody tr th {\n",
       "        vertical-align: top;\n",
       "    }\n",
       "\n",
       "    .dataframe thead th {\n",
       "        text-align: right;\n",
       "    }\n",
       "</style>\n",
       "<table border=\"1\" class=\"dataframe\">\n",
       "  <thead>\n",
       "    <tr style=\"text-align: right;\">\n",
       "      <th></th>\n",
       "      <th>Unnamed: 0</th>\n",
       "      <th>Timestamp</th>\n",
       "      <th>Gmtoffset</th>\n",
       "      <th>Datetime</th>\n",
       "      <th>Open</th>\n",
       "      <th>High</th>\n",
       "      <th>Low</th>\n",
       "      <th>Close</th>\n",
       "      <th>Volume</th>\n",
       "      <th>RSI</th>\n",
       "      <th>buy_signal</th>\n",
       "      <th>sell_signal</th>\n",
       "    </tr>\n",
       "  </thead>\n",
       "  <tbody>\n",
       "    <tr>\n",
       "      <th>19</th>\n",
       "      <td>19</td>\n",
       "      <td>1609776300</td>\n",
       "      <td>0</td>\n",
       "      <td>2021-01-04 16:05:00</td>\n",
       "      <td>130.309997</td>\n",
       "      <td>130.549896</td>\n",
       "      <td>129.660003</td>\n",
       "      <td>129.866699</td>\n",
       "      <td>3030766.0</td>\n",
       "      <td>26.683236</td>\n",
       "      <td>False</td>\n",
       "      <td>False</td>\n",
       "    </tr>\n",
       "    <tr>\n",
       "      <th>20</th>\n",
       "      <td>20</td>\n",
       "      <td>1609776600</td>\n",
       "      <td>0</td>\n",
       "      <td>2021-01-04 16:10:00</td>\n",
       "      <td>129.860000</td>\n",
       "      <td>130.239898</td>\n",
       "      <td>129.399993</td>\n",
       "      <td>130.089996</td>\n",
       "      <td>2231137.0</td>\n",
       "      <td>30.749593</td>\n",
       "      <td>False</td>\n",
       "      <td>False</td>\n",
       "    </tr>\n",
       "    <tr>\n",
       "      <th>21</th>\n",
       "      <td>21</td>\n",
       "      <td>1609776900</td>\n",
       "      <td>0</td>\n",
       "      <td>2021-01-04 16:15:00</td>\n",
       "      <td>130.080093</td>\n",
       "      <td>130.354995</td>\n",
       "      <td>129.904602</td>\n",
       "      <td>130.324996</td>\n",
       "      <td>1328068.0</td>\n",
       "      <td>34.758166</td>\n",
       "      <td>False</td>\n",
       "      <td>False</td>\n",
       "    </tr>\n",
       "    <tr>\n",
       "      <th>22</th>\n",
       "      <td>22</td>\n",
       "      <td>1609777200</td>\n",
       "      <td>0</td>\n",
       "      <td>2021-01-04 16:20:00</td>\n",
       "      <td>130.324005</td>\n",
       "      <td>130.419998</td>\n",
       "      <td>129.930099</td>\n",
       "      <td>129.996398</td>\n",
       "      <td>1233893.0</td>\n",
       "      <td>32.029264</td>\n",
       "      <td>False</td>\n",
       "      <td>False</td>\n",
       "    </tr>\n",
       "    <tr>\n",
       "      <th>23</th>\n",
       "      <td>23</td>\n",
       "      <td>1609777500</td>\n",
       "      <td>0</td>\n",
       "      <td>2021-01-04 16:25:00</td>\n",
       "      <td>129.994995</td>\n",
       "      <td>130.206695</td>\n",
       "      <td>129.880004</td>\n",
       "      <td>129.895004</td>\n",
       "      <td>1144809.0</td>\n",
       "      <td>31.232801</td>\n",
       "      <td>False</td>\n",
       "      <td>False</td>\n",
       "    </tr>\n",
       "  </tbody>\n",
       "</table>\n",
       "</div>"
      ],
      "text/plain": [
       "    Unnamed: 0   Timestamp  Gmtoffset             Datetime        Open  \\\n",
       "19          19  1609776300          0  2021-01-04 16:05:00  130.309997   \n",
       "20          20  1609776600          0  2021-01-04 16:10:00  129.860000   \n",
       "21          21  1609776900          0  2021-01-04 16:15:00  130.080093   \n",
       "22          22  1609777200          0  2021-01-04 16:20:00  130.324005   \n",
       "23          23  1609777500          0  2021-01-04 16:25:00  129.994995   \n",
       "\n",
       "          High         Low       Close     Volume        RSI  buy_signal  \\\n",
       "19  130.549896  129.660003  129.866699  3030766.0  26.683236       False   \n",
       "20  130.239898  129.399993  130.089996  2231137.0  30.749593       False   \n",
       "21  130.354995  129.904602  130.324996  1328068.0  34.758166       False   \n",
       "22  130.419998  129.930099  129.996398  1233893.0  32.029264       False   \n",
       "23  130.206695  129.880004  129.895004  1144809.0  31.232801       False   \n",
       "\n",
       "    sell_signal  \n",
       "19        False  \n",
       "20        False  \n",
       "21        False  \n",
       "22        False  \n",
       "23        False  "
      ]
     },
     "execution_count": 23,
     "metadata": {},
     "output_type": "execute_result"
    }
   ],
   "source": [
    "historic.head()"
   ]
  },
  {
   "cell_type": "code",
   "execution_count": 42,
   "id": "34b9df24",
   "metadata": {},
   "outputs": [],
   "source": [
    "from dataclasses import dataclass\n",
    "\n",
    "@dataclass\n",
    "class Operation:\n",
    "    time: str\n",
    "    price: float\n",
    "    stop_loss: float\n",
    "    take_profit: float\n",
    "    n_shares: int\n",
    "    type: str"
   ]
  },
  {
   "cell_type": "code",
   "execution_count": 43,
   "id": "8e22db2b",
   "metadata": {},
   "outputs": [],
   "source": [
    "def get_portfolio_value(cash: float, long_ops: list[Operation], short_ops: list[Operation], current_price: float, n_shares: int) -> float:\n",
    "    val = cash\n",
    "\n",
    "    # add long positions value\n",
    "    val += len(long_ops) * n_shares * current_price\n",
    "\n",
    "    # TODO: add short positions value\n",
    "    return val"
   ]
  },
  {
   "cell_type": "code",
   "execution_count": 44,
   "id": "e1793746",
   "metadata": {},
   "outputs": [],
   "source": [
    "COM = 0.125 / 100\n",
    "SL = 0.1\n",
    "TP = 0.1\n",
    "BORROW_RATE = 0.25 / 100\n",
    "\n",
    "cash = 1_000_000\n",
    "n_shares = 200\n",
    "\n",
    "active_long_positions: list[Operation] = []\n",
    "\n",
    "portfolio_value = [cash]\n",
    "\n",
    "for i, row in historic.iterrows():\n",
    "\n",
    "    # this only works for long positions...\n",
    "    \n",
    "    # close positions\n",
    "    for position in active_long_positions.copy():\n",
    "\n",
    "        if row.Close > position.take_profit or row.Close < position.stop_loss:\n",
    "            cash += row.Close * position.n_shares * (1 - COM)\n",
    "            active_long_positions.remove(position)\n",
    "\n",
    "    # check signal\n",
    "\n",
    "    if not row.buy_signal:\n",
    "        portfolio_value.append(get_portfolio_value(cash, active_long_positions, [], row.Close, n_shares))\n",
    "        continue\n",
    "    \n",
    "    #check if you have enough cash\n",
    "\n",
    "    if cash < row.Close * n_shares * (1 + COM):\n",
    "        portfolio_value.append(get_portfolio_value(cash, active_long_positions, [], row.Close, n_shares))\n",
    "        continue\n",
    "\n",
    "    #discount the cost\n",
    "\n",
    "    cash -= row.Close * n_shares * (1 + COM)\n",
    "    # save the operation as active position\n",
    "\n",
    "    active_long_positions.append(\n",
    "        Operation(\n",
    "            time=row.Datetime,\n",
    "            price=row.Close,\n",
    "            stop_loss=row.Close * (1 - SL),\n",
    "            take_profit=row.Close * (1 + TP),\n",
    "            n_shares=n_shares,\n",
    "            type='LONG'\n",
    "        )\n",
    "    )\n",
    "\n",
    "    portfolio_value.append(get_portfolio_value(cash, active_long_positions, [], row.Close, n_shares))\n",
    "\n",
    "cash += row.Close * len(active_long_positions) * n_shares * (1 - COM)\n",
    "active_long_positions = []"
   ]
  },
  {
   "cell_type": "code",
   "execution_count": 45,
   "id": "9774ff9d",
   "metadata": {},
   "outputs": [
    {
     "data": {
      "text/plain": [
       "(1175409.6117202505, 0)"
      ]
     },
     "execution_count": 45,
     "metadata": {},
     "output_type": "execute_result"
    }
   ],
   "source": [
    "cash, len(active_long_positions)"
   ]
  },
  {
   "cell_type": "code",
   "execution_count": 46,
   "id": "632217b9",
   "metadata": {},
   "outputs": [
    {
     "data": {
      "text/plain": [
       "<Axes: >"
      ]
     },
     "execution_count": 46,
     "metadata": {},
     "output_type": "execute_result"
    },
    {
     "data": {
      "image/png": "[encoded data removed]",
      "text/plain": [
       "<Figure size 1200x600 with 1 Axes>"
      ]
     },
     "metadata": {},
     "output_type": "display_data"
    }
   ],
   "source": [
    "historic.Close.plot(figsize=(12,6), color = 'brown')"
   ]
  },
  {
   "cell_type": "code",
   "execution_count": 48,
   "id": "16244ee9",
   "metadata": {},
   "outputs": [
    {
     "data": {
      "text/plain": [
       "[<matplotlib.lines.Line2D at 0x2cb09c4f650>]"
      ]
     },
     "execution_count": 48,
     "metadata": {},
     "output_type": "execute_result"
    },
    {
     "data": {
      "image/png": "[encoded data removed]",
      "text/plain": [
       "<Figure size 640x480 with 1 Axes>"
      ]
     },
     "metadata": {},
     "output_type": "display_data"
    }
   ],
   "source": [
    "plt.plot(portfolio_value, color='brown')"
   ]
  },
  {
   "cell_type": "code",
   "execution_count": null,
   "id": "52a48a97",
   "metadata": {},
   "outputs": [],
   "source": []
  }
 ],
 "metadata": {
  "kernelspec": {
   "display_name": "base",
   "language": "python",
   "name": "python3"
  },
  "language_info": {
   "codemirror_mode": {
    "name": "ipython",
    "version": 3
   },
   "file_extension": ".py",
   "mimetype": "text/x-python",
   "name": "python",
   "nbconvert_exporter": "python",
   "pygments_lexer": "ipython3",
   "version": "3.12.7"
  }
 },
 "nbformat": 4,
 "nbformat_minor": 5
}
